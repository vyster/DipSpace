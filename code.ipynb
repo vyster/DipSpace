{
 "cells": [
  {
   "cell_type": "code",
   "execution_count": 7,
   "id": "172c5dd0",
   "metadata": {},
   "outputs": [
    {
     "name": "stdout",
     "output_type": "stream",
     "text": [
      "Defaulting to user installation because normal site-packages is not writeable\n",
      "Collecting pandas\n",
      "  Downloading pandas-2.3.0-cp39-cp39-macosx_11_0_arm64.whl (10.8 MB)\n",
      "\u001b[K     |████████████████████████████████| 10.8 MB 1.6 MB/s eta 0:00:01\n",
      "\u001b[?25hCollecting numpy>=1.22.4\n",
      "  Downloading numpy-2.0.2-cp39-cp39-macosx_14_0_arm64.whl (5.3 MB)\n",
      "\u001b[K     |████████████████████████████████| 5.3 MB 12.5 MB/s eta 0:00:01\n",
      "\u001b[?25hCollecting tzdata>=2022.7\n",
      "  Downloading tzdata-2025.2-py2.py3-none-any.whl (347 kB)\n",
      "\u001b[K     |████████████████████████████████| 347 kB 15.2 MB/s eta 0:00:01\n",
      "\u001b[?25hCollecting pytz>=2020.1\n",
      "  Downloading pytz-2025.2-py2.py3-none-any.whl (509 kB)\n",
      "\u001b[K     |████████████████████████████████| 509 kB 17.0 MB/s eta 0:00:01\n",
      "\u001b[?25hRequirement already satisfied: python-dateutil>=2.8.2 in /Users/villo/Library/Python/3.9/lib/python/site-packages (from pandas) (2.9.0.post0)\n",
      "Requirement already satisfied: six>=1.5 in /Library/Developer/CommandLineTools/Library/Frameworks/Python3.framework/Versions/3.9/lib/python3.9/site-packages (from python-dateutil>=2.8.2->pandas) (1.15.0)\n",
      "Installing collected packages: tzdata, pytz, numpy, pandas\n",
      "Successfully installed numpy-2.0.2 pandas-2.3.0 pytz-2025.2 tzdata-2025.2\n",
      "\u001b[33mWARNING: You are using pip version 21.2.4; however, version 25.1.1 is available.\n",
      "You should consider upgrading via the '/Library/Developer/CommandLineTools/usr/bin/python3 -m pip install --upgrade pip' command.\u001b[0m\n",
      "Note: you may need to restart the kernel to use updated packages.\n"
     ]
    }
   ],
   "source": [
    "pip install pandas"
   ]
  },
  {
   "cell_type": "code",
   "execution_count": 34,
   "id": "5dbd03e6",
   "metadata": {},
   "outputs": [
    {
     "name": "stdout",
     "output_type": "stream",
     "text": [
      "        Date     Price     Vol.  Change  Year\n",
      "0 2025-06-08  25141.40  887.79M    0.55  2025\n",
      "1 2025-06-01  25003.05    1.67B    1.02  2025\n",
      "2 2025-05-25  24750.70    2.71B   -0.41  2025\n",
      "3 2025-05-18  24853.15    1.68B   -0.67  2025\n",
      "4 2025-05-11  25019.80    2.07B    4.21  2025\n",
      "        Date     Price    Vol.  Change  Year\n",
      "0 2025-06-08  82515.14  37.83M    0.40  2025\n",
      "1 2025-06-01  82188.99  71.50M    0.91  2025\n",
      "2 2025-05-25  81451.01  74.32M   -0.33  2025\n",
      "3 2025-05-18  81721.08  47.02M   -0.74  2025\n",
      "4 2025-05-11  82330.59  70.04M    3.62  2025\n",
      "(1328, 5)\n",
      "(1842, 5)\n"
     ]
    }
   ],
   "source": [
    "import pandas as pd\n",
    "\n",
    "# Load data\n",
    "nifty = pd.read_csv(\"Niftweekly.csv\")\n",
    "sensex = pd.read_csv(\"SensexWeekly.csv\")\n",
    "\n",
    "for df in [nifty, sensex]:\n",
    "    df.rename(columns={'Change %': 'Change'}, inplace=True)\n",
    "    df.drop(columns=['Open', 'High', 'Low'], inplace=True)\n",
    "    df['Date'] = pd.to_datetime(df['Date'], format=\"%d-%m-%Y\")\n",
    "    df['Change'] = df['Change'].str.replace('%', '', regex=False).astype(float)\n",
    "    df['Price'] = df['Price'].str.replace(',', '', regex=False).astype(float)\n",
    "    df['Year'] = df['Date'].dt.year\n",
    "print(nifty.head())\n",
    "print(sensex.head())\n",
    "print(nifty.shape)\n",
    "print(sensex.shape)\n"
   ]
  },
  {
   "cell_type": "code",
   "execution_count": 36,
   "id": "11778fc4",
   "metadata": {},
   "outputs": [
    {
     "name": "stdout",
     "output_type": "stream",
     "text": [
      "Nifty: Weeks with fall in 25 Years > 3%: 132\n",
      "Sensex: Weeks with fall in 35 Years> 3%: 231\n"
     ]
    }
   ],
   "source": [
    "\n",
    "nifty_dip_weeks = (nifty['Change'] < -3).sum()\n",
    "sensex_dip_weeks = (sensex['Change'] < -3).sum()\n",
    "\n",
    "print(f\"Nifty: Weeks with fall in 25 Years > 3%: {nifty_dip_weeks}\")\n",
    "print(f\"Sensex: Weeks with fall in 35 Years> 3%: {sensex_dip_weeks}\")"
   ]
  }
 ],
 "metadata": {
  "kernelspec": {
   "display_name": "Python 3",
   "language": "python",
   "name": "python3"
  },
  "language_info": {
   "codemirror_mode": {
    "name": "ipython",
    "version": 3
   },
   "file_extension": ".py",
   "mimetype": "text/x-python",
   "name": "python",
   "nbconvert_exporter": "python",
   "pygments_lexer": "ipython3",
   "version": "3.9.6"
  }
 },
 "nbformat": 4,
 "nbformat_minor": 5
}
