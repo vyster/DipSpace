{
 "cells": [
  {
   "cell_type": "code",
   "execution_count": 56,
   "id": "172c5dd0",
   "metadata": {},
   "outputs": [
    {
     "name": "stdout",
     "output_type": "stream",
     "text": [
      "Defaulting to user installation because normal site-packages is not writeable\n",
      "Collecting openpyxl\n",
      "  Downloading openpyxl-3.1.5-py2.py3-none-any.whl (250 kB)\n",
      "\u001b[K     |████████████████████████████████| 250 kB 7.6 MB/s eta 0:00:01\n",
      "\u001b[?25hCollecting et-xmlfile\n",
      "  Downloading et_xmlfile-2.0.0-py3-none-any.whl (18 kB)\n",
      "Installing collected packages: et-xmlfile, openpyxl\n",
      "Successfully installed et-xmlfile-2.0.0 openpyxl-3.1.5\n",
      "\u001b[33mWARNING: You are using pip version 21.2.4; however, version 25.1.1 is available.\n",
      "You should consider upgrading via the '/Library/Developer/CommandLineTools/usr/bin/python3 -m pip install --upgrade pip' command.\u001b[0m\n",
      "Note: you may need to restart the kernel to use updated packages.\n"
     ]
    }
   ],
   "source": [
    "pip install openpyxl"
   ]
  },
  {
   "cell_type": "code",
   "execution_count": 64,
   "id": "5dbd03e6",
   "metadata": {},
   "outputs": [
    {
     "name": "stdout",
     "output_type": "stream",
     "text": [
      "        Date    Price     Vol.  Change  Year\n",
      "0 2000-01-02  1613.30  231.89M    8.97  2000\n",
      "1 2000-01-09  1622.75  220.53M    0.59  2000\n",
      "2 2000-01-16  1620.60  205.57M   -0.13  2000\n",
      "3 2000-01-23  1599.10  156.28M   -1.33  2000\n",
      "4 2000-01-30  1599.75  183.96M    0.04  2000\n",
      "        Date   Price Vol.  Change  Year\n",
      "0 1990-01-07  780.34  NaN    0.74  1990\n",
      "1 1990-01-14  710.75  NaN   -8.92  1990\n",
      "2 1990-01-21  716.23  NaN    0.77  1990\n",
      "3 1990-01-28  684.48  NaN   -4.43  1990\n",
      "4 1990-02-04  659.30  NaN   -3.68  1990\n",
      "(1305, 5)\n",
      "(1819, 5)\n"
     ]
    }
   ],
   "source": [
    "import pandas as pd\n",
    "\n",
    "# Load data\n",
    "nifty = pd.read_csv(\"Niftweekly.csv\")\n",
    "sensex = pd.read_csv(\"SensexWeekly.csv\")\n",
    "\n",
    "for df in [nifty, sensex]:\n",
    "    df.rename(columns={'Change %': 'Change'}, inplace=True)\n",
    "    df.drop(columns=['Open', 'High', 'Low'], inplace=True)\n",
    "    df['Date'] = pd.to_datetime(df['Date'], format=\"%d-%m-%Y\")\n",
    "    df['Change'] = df['Change'].str.replace('%', '', regex=False).astype(float)\n",
    "    df['Price'] = df['Price'].str.replace(',', '', regex=False).astype(float)\n",
    "    df['Year'] = df['Date'].dt.year\n",
    "\n",
    "#reverse the table bottom to top for nifty and sensex according to date\n",
    "nifty = nifty.sort_values('Date', ascending=True).reset_index(drop=True)\n",
    "sensex = sensex.sort_values('Date', ascending=True).reset_index(drop=True)\n",
    "\n",
    "print(nifty.head())\n",
    "print(sensex.head())\n",
    "print(nifty.shape)\n",
    "print(sensex.shape)\n"
   ]
  },
  {
   "cell_type": "code",
   "execution_count": 65,
   "id": "971d626d",
   "metadata": {},
   "outputs": [
    {
     "name": "stdout",
     "output_type": "stream",
     "text": [
      "(132, 5)\n",
      "(231, 5)\n"
     ]
    }
   ],
   "source": [
    "# Calculate the number of weeks with a fall greater than 3% for Nifty and Sensex\n",
    "# Filter weeks where absolute change is less than 3%\n",
    "nifty_less3 = nifty[nifty['Change'] < -3]\n",
    "sensex_less3 = sensex[sensex['Change'] < -3]\n",
    "print(nifty_less3.shape)\n",
    "print(sensex_less3.shape)\n",
    "\n",
    "# Group and count\n",
    "nifty_count = nifty_less3.groupby('Year').size().reset_index(name='Nifty <3% Weeks')\n",
    "sensex_count = sensex_less3.groupby('Year').size().reset_index(name='Sensex <3% Weeks')\n",
    "\n",
    "#reverse the table bottom to top for nifty and sensex according to date"
   ]
  },
  {
   "cell_type": "code",
   "execution_count": 66,
   "id": "09cadacb",
   "metadata": {},
   "outputs": [
    {
     "name": "stdout",
     "output_type": "stream",
     "text": [
      "[2000 2001 2002 2003 2004 2005 2006 2007 2008 2009 2010 2011 2012 2013\n",
      " 2014 2015 2016 2017 2018 2019 2020 2021 2022 2023 2024]\n",
      "[1990 1991 1992 1993 1994 1995 1996 1997 1998 1999 2000 2001 2002 2003\n",
      " 2004 2005 2006 2007 2008 2009 2010 2011 2012 2013 2014 2015 2016 2017\n",
      " 2018 2019 2020 2021 2022 2023 2024]\n"
     ]
    }
   ],
   "source": [
    "\n",
    "# Function to simulate strategies per year\n",
    "def simulate_sip_strategies(df, index_name, fall_threshold=-3):\n",
    "    years = df['Year'].unique()\n",
    "    current_price = df.iloc[-1]['Price']  # Use latest price in dataset\n",
    "    sip_logs = []\n",
    "\n",
    "    for year in years:\n",
    "        # SIP strategy\n",
    "        sip_units, sip_invested = 0, 0\n",
    "        for month in range(1, 13):\n",
    "            month_data = df[(df['Year'] == year) & (df['Date'].dt.month == month)]\n",
    "            if not month_data.empty:\n",
    "                row = month_data.iloc[0]\n",
    "                units = 10000 / row['Price']\n",
    "                sip_units += units\n",
    "                sip_invested += 10000\n",
    "                sip_logs.append({\n",
    "                    'Strategy': 'SIP',\n",
    "                    'Date': row['Date'],\n",
    "                    'Price': row['Price'],\n",
    "                    'Amount Invested': 10000,\n",
    "                    'Units': units,\n",
    "                    'Current Value': units * current_price,\n",
    "                    'Running Total Investment': sip_invested,\n",
    "                    'Running Corpus Value': sip_units * current_price,\n",
    "                    'Index': index_name,\n",
    "                    'Year': year\n",
    "                })\n",
    "\n",
    "    return pd.DataFrame(sip_logs)\n",
    "def simulate_dip_strategies(df, index_name, fall_threshold=-3):\n",
    "    years = df['Year'].unique()\n",
    "    print (years)\n",
    "    current_price = df.iloc[-1]['Price']  # Use latest price in dataset\n",
    "    dip_logs = []\n",
    "    for year in years:\n",
    "        # DIP strategy\n",
    "        dip_data = df[(df['Year'] == year) & (df['Change'] < fall_threshold)]\n",
    "        dip_units, dip_invested = 0, 0\n",
    "        dip_count = 0\n",
    "\n",
    "        for _, row in dip_data.iterrows():\n",
    "            if dip_count >= 12:\n",
    "                break\n",
    "            units = 10000 / row['Price']\n",
    "            dip_units += units\n",
    "            dip_invested += 10000\n",
    "            dip_logs.append({\n",
    "                'Strategy': 'DIP',\n",
    "                'Date': row['Date'],\n",
    "                'Price': row['Price'],\n",
    "                'Amount Invested': 10000,\n",
    "                'Units': units,\n",
    "                'Current Value': units * current_price,\n",
    "                'Running Total Investment': dip_invested,\n",
    "                'Running Corpus Value': dip_units * current_price,\n",
    "                'Index': index_name,\n",
    "                'Year': year\n",
    "            })\n",
    "            dip_count += 1\n",
    "\n",
    "        if dip_count < 12:\n",
    "            dec_data = df[(df['Year'] == year) & (df['Date'].dt.month == 12)]\n",
    "            if not dec_data.empty:\n",
    "                dec_row = dec_data.iloc[-1]\n",
    "                for _ in range(12 - dip_count):\n",
    "                    units = 10000 / dec_row['Price']\n",
    "                    dip_units += units\n",
    "                    dip_invested += 10000\n",
    "                    dip_logs.append({\n",
    "                        'Strategy': 'DEC_FILL',\n",
    "                        'Date': dec_row['Date'],\n",
    "                        'Price': dec_row['Price'],\n",
    "                        'Amount Invested': 10000,\n",
    "                        'Units': units,\n",
    "                        'Current Value': units * current_price,\n",
    "                        'Running Total Investment': dip_invested,\n",
    "                        'Running Corpus Value': dip_units * current_price,\n",
    "                        'Index': index_name,\n",
    "                        'Year': year\n",
    "                    })\n",
    "    return pd.DataFrame(dip_logs)\n",
    "\n",
    "# Generate full logs for both indices\n",
    "fall_threshold = -5  # Configurable\n",
    "nifty_log_sip = simulate_sip_strategies(nifty, \"Nifty\", fall_threshold)\n",
    "nifty_log_dip = simulate_dip_strategies(nifty, \"Nifty\", fall_threshold)\n",
    "sensex_log_sip = simulate_sip_strategies(sensex, \"Sensex\", fall_threshold)\n",
    "sensex_log_dip = simulate_dip_strategies(sensex, \"Sensex\", fall_threshold)\n",
    "with pd.ExcelWriter(\"dip_vs_sip_analysis.xlsx\", engine=\"openpyxl\") as writer:\n",
    "    nifty_log_sip.to_excel(writer, sheet_name=\"Nifty_SIP\", index=False)\n",
    "    nifty_log_dip.to_excel(writer, sheet_name=\"Nifty_Dip\", index=False)\n",
    "    sensex_log_sip.to_excel(writer, sheet_name=\"Sensex_SIP\", index=False)\n",
    "    sensex_log_dip.to_excel(writer, sheet_name=\"Sensex_Dip\", index=False)\n",
    "\n"
   ]
  }
 ],
 "metadata": {
  "kernelspec": {
   "display_name": "Python 3",
   "language": "python",
   "name": "python3"
  },
  "language_info": {
   "codemirror_mode": {
    "name": "ipython",
    "version": 3
   },
   "file_extension": ".py",
   "mimetype": "text/x-python",
   "name": "python",
   "nbconvert_exporter": "python",
   "pygments_lexer": "ipython3",
   "version": "3.9.6"
  }
 },
 "nbformat": 4,
 "nbformat_minor": 5
}
